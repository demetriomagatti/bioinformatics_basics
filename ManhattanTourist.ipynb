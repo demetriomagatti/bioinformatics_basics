{
 "cells": [
  {
   "cell_type": "code",
   "execution_count": 1,
   "id": "6e74de7a",
   "metadata": {},
   "outputs": [
    {
     "data": {
      "application/javascript": [
       "require([\"codemirror/keymap/sublime\", \"notebook/js/cell\", \"base/js/namespace\"],\n",
       "    function(sublime_keymap, cell, IPython){\n",
       "        cell.Cell.options_default.cm_config.keyMap = 'sublime';\n",
       "        var cells = IPython.notebook.get_cells();\n",
       "        for(var cl=0; cl< cells.length ; cl++){\n",
       "            cells[cl].code_mirror.setOption('keyMap', 'sublime');\n",
       "        }\n",
       "    }\n",
       ");\n"
      ],
      "text/plain": [
       "<IPython.core.display.Javascript object>"
      ]
     },
     "metadata": {},
     "output_type": "display_data"
    }
   ],
   "source": [
    "%%javascript\n",
    "require([\"codemirror/keymap/sublime\", \"notebook/js/cell\", \"base/js/namespace\"],\n",
    "    function(sublime_keymap, cell, IPython){\n",
    "        cell.Cell.options_default.cm_config.keyMap = 'sublime';\n",
    "        var cells = IPython.notebook.get_cells();\n",
    "        for(var cl=0; cl< cells.length ; cl++){\n",
    "            cells[cl].code_mirror.setOption('keyMap', 'sublime');\n",
    "        }\n",
    "    }\n",
    ");"
   ]
  },
  {
   "cell_type": "code",
   "execution_count": 2,
   "id": "f972e5ba",
   "metadata": {},
   "outputs": [],
   "source": [
    "import numpy as np\n",
    "import matplotlib.pyplot as plt\n",
    "%matplotlib inline"
   ]
  },
  {
   "cell_type": "code",
   "execution_count": 3,
   "id": "43d5a151",
   "metadata": {},
   "outputs": [
    {
     "name": "stdout",
     "output_type": "stream",
     "text": [
      "Collecting git+https://github.com/demetriomagatti/bioinformatics_basics.git@main\n",
      "  Cloning https://github.com/demetriomagatti/bioinformatics_basics.git (to revision main) to /tmp/pip-req-build-2ncoew3o\n",
      "  Running command git clone -q https://github.com/demetriomagatti/bioinformatics_basics.git /tmp/pip-req-build-2ncoew3o\n",
      "Note: you may need to restart the kernel to use updated packages.\n"
     ]
    }
   ],
   "source": [
    "pip install git+https://github.com/demetriomagatti/bioinformatics_basics.git@main"
   ]
  },
  {
   "cell_type": "markdown",
   "id": "1e227a69",
   "metadata": {},
   "source": [
    "### Example"
   ]
  },
  {
   "cell_type": "code",
   "execution_count": 4,
   "id": "794ea555",
   "metadata": {},
   "outputs": [
    {
     "name": "stdout",
     "output_type": "stream",
     "text": [
      "Initialized module\n"
     ]
    }
   ],
   "source": [
    "from bioinformatics_basics import alignment\n",
    "solver = alignment.ManhattanSolver(nrows=5,ncols=5,MaxScore=10)"
   ]
  },
  {
   "cell_type": "code",
   "execution_count": 5,
   "id": "1e5727a3",
   "metadata": {},
   "outputs": [
    {
     "data": {
      "text/plain": [
       "array([[6., 4., 9., 9., 4.],\n",
       "       [1., 2., 0., 8., 4.],\n",
       "       [8., 8., 4., 5., 9.],\n",
       "       [9., 0., 4., 3., 5.]])"
      ]
     },
     "execution_count": 5,
     "metadata": {},
     "output_type": "execute_result"
    }
   ],
   "source": [
    "# matrix containing scores for \"to nord\" movements\n",
    "solver.MoveNord"
   ]
  },
  {
   "cell_type": "code",
   "execution_count": 6,
   "id": "ce9adb0c",
   "metadata": {},
   "outputs": [
    {
     "data": {
      "text/plain": [
       "array([[8., 5., 2., 1.],\n",
       "       [9., 2., 6., 6.],\n",
       "       [6., 0., 7., 0.],\n",
       "       [7., 6., 9., 6.],\n",
       "       [6., 1., 1., 8.]])"
      ]
     },
     "execution_count": 6,
     "metadata": {},
     "output_type": "execute_result"
    }
   ],
   "source": [
    "# matrix containing scores for \"to east\" movements\n",
    "solver.MoveEast"
   ]
  },
  {
   "cell_type": "code",
   "execution_count": 7,
   "id": "b395bb1d",
   "metadata": {},
   "outputs": [
    {
     "data": {
      "text/plain": [
       "array([[0., 0., 0., 0., 0.],\n",
       "       [0., 0., 0., 0., 0.],\n",
       "       [0., 0., 0., 0., 0.],\n",
       "       [0., 0., 0., 0., 0.],\n",
       "       [0., 0., 0., 0., 0.]])"
      ]
     },
     "execution_count": 7,
     "metadata": {},
     "output_type": "execute_result"
    }
   ],
   "source": [
    "# matrix containing maximum score to a vertex - empty before running\n",
    "solver.Score"
   ]
  },
  {
   "cell_type": "code",
   "execution_count": 8,
   "id": "aed77ac4",
   "metadata": {},
   "outputs": [
    {
     "data": {
      "text/plain": [
       "{}"
      ]
     },
     "execution_count": 8,
     "metadata": {},
     "output_type": "execute_result"
    }
   ],
   "source": [
    "# moves to maximize score to a vertex - empty before running\n",
    "solver.Moves"
   ]
  },
  {
   "cell_type": "code",
   "execution_count": 9,
   "id": "4daa47e9",
   "metadata": {},
   "outputs": [],
   "source": [
    "solver.run()"
   ]
  },
  {
   "cell_type": "code",
   "execution_count": 10,
   "id": "540bf7e3",
   "metadata": {},
   "outputs": [
    {
     "data": {
      "text/plain": [
       "array([[ 0.,  8., 13., 15., 16.],\n",
       "       [ 6., 15., 22., 28., 34.],\n",
       "       [ 7., 17., 22., 36., 38.],\n",
       "       [15., 25., 31., 41., 47.],\n",
       "       [24., 30., 35., 44., 52.]])"
      ]
     },
     "execution_count": 10,
     "metadata": {},
     "output_type": "execute_result"
    }
   ],
   "source": [
    "# matrix containing maximum score to a vertex\n",
    "solver.Score"
   ]
  },
  {
   "cell_type": "code",
   "execution_count": 11,
   "id": "88d5123d",
   "metadata": {},
   "outputs": [
    {
     "data": {
      "text/plain": [
       "['East', 'East', 'Nord', 'East', 'Nord', 'Nord', 'Nord', 'East']"
      ]
     },
     "execution_count": 11,
     "metadata": {},
     "output_type": "execute_result"
    }
   ],
   "source": [
    "# moves to maximize score to the final vertex\n",
    "solver.Moves[list(solver.Moves.keys())[-1]]"
   ]
  },
  {
   "cell_type": "code",
   "execution_count": 12,
   "id": "8468cd21",
   "metadata": {
    "scrolled": true
   },
   "outputs": [
    {
     "ename": "NameError",
     "evalue": "name 'plt' is not defined",
     "output_type": "error",
     "traceback": [
      "\u001b[0;31m---------------------------------------------------------------------------\u001b[0m",
      "\u001b[0;31mNameError\u001b[0m                                 Traceback (most recent call last)",
      "\u001b[0;32m<ipython-input-12-5915dc979b73>\u001b[0m in \u001b[0;36m<module>\u001b[0;34m\u001b[0m\n\u001b[1;32m      1\u001b[0m \u001b[0;31m# visual check\u001b[0m\u001b[0;34m\u001b[0m\u001b[0;34m\u001b[0m\u001b[0;34m\u001b[0m\u001b[0m\n\u001b[0;32m----> 2\u001b[0;31m \u001b[0msolver\u001b[0m\u001b[0;34m.\u001b[0m\u001b[0mvisualize\u001b[0m\u001b[0;34m(\u001b[0m\u001b[0;34m)\u001b[0m\u001b[0;34m\u001b[0m\u001b[0;34m\u001b[0m\u001b[0m\n\u001b[0m",
      "\u001b[0;32m~/anaconda3/envs/tf/lib/python3.8/site-packages/bioinformatics_basics/alignment.py\u001b[0m in \u001b[0;36mvisualize\u001b[0;34m(self)\u001b[0m\n\u001b[1;32m     39\u001b[0m \u001b[0;34m\u001b[0m\u001b[0m\n\u001b[1;32m     40\u001b[0m     \u001b[0;32mdef\u001b[0m \u001b[0mvisualize\u001b[0m\u001b[0;34m(\u001b[0m\u001b[0mself\u001b[0m\u001b[0;34m)\u001b[0m\u001b[0;34m:\u001b[0m\u001b[0;34m\u001b[0m\u001b[0;34m\u001b[0m\u001b[0m\n\u001b[0;32m---> 41\u001b[0;31m         \u001b[0mfig\u001b[0m\u001b[0;34m,\u001b[0m\u001b[0max\u001b[0m \u001b[0;34m=\u001b[0m \u001b[0mplt\u001b[0m\u001b[0;34m.\u001b[0m\u001b[0msubplots\u001b[0m\u001b[0;34m(\u001b[0m\u001b[0;34m)\u001b[0m\u001b[0;34m\u001b[0m\u001b[0;34m\u001b[0m\u001b[0m\n\u001b[0m\u001b[1;32m     42\u001b[0m         \u001b[0;31m# Plain grid plot\u001b[0m\u001b[0;34m\u001b[0m\u001b[0;34m\u001b[0m\u001b[0;34m\u001b[0m\u001b[0m\n\u001b[1;32m     43\u001b[0m         \u001b[0mx\u001b[0m\u001b[0;34m,\u001b[0m\u001b[0my\u001b[0m \u001b[0;34m=\u001b[0m \u001b[0mnp\u001b[0m\u001b[0;34m.\u001b[0m\u001b[0mmeshgrid\u001b[0m\u001b[0;34m(\u001b[0m\u001b[0mnp\u001b[0m\u001b[0;34m.\u001b[0m\u001b[0marange\u001b[0m\u001b[0;34m(\u001b[0m\u001b[0mself\u001b[0m\u001b[0;34m.\u001b[0m\u001b[0mnrows\u001b[0m\u001b[0;34m)\u001b[0m\u001b[0;34m,\u001b[0m\u001b[0mnp\u001b[0m\u001b[0;34m.\u001b[0m\u001b[0marange\u001b[0m\u001b[0;34m(\u001b[0m\u001b[0mself\u001b[0m\u001b[0;34m.\u001b[0m\u001b[0mncols\u001b[0m\u001b[0;34m)\u001b[0m\u001b[0;34m)\u001b[0m\u001b[0;34m\u001b[0m\u001b[0;34m\u001b[0m\u001b[0m\n",
      "\u001b[0;31mNameError\u001b[0m: name 'plt' is not defined"
     ]
    }
   ],
   "source": [
    "# visual check\n",
    "solver.visualize()"
   ]
  },
  {
   "cell_type": "code",
   "execution_count": null,
   "id": "3827293c",
   "metadata": {},
   "outputs": [],
   "source": []
  },
  {
   "cell_type": "code",
   "execution_count": null,
   "id": "66d2931f",
   "metadata": {},
   "outputs": [],
   "source": []
  },
  {
   "cell_type": "code",
   "execution_count": null,
   "id": "51d6bf70",
   "metadata": {},
   "outputs": [],
   "source": []
  },
  {
   "cell_type": "code",
   "execution_count": null,
   "id": "9bf869c5",
   "metadata": {},
   "outputs": [],
   "source": []
  },
  {
   "cell_type": "code",
   "execution_count": null,
   "id": "74c6a17e",
   "metadata": {},
   "outputs": [],
   "source": []
  },
  {
   "cell_type": "code",
   "execution_count": null,
   "id": "f82c50d8",
   "metadata": {},
   "outputs": [],
   "source": [
    "class ManhattanSolver():\n",
    "    def __init__(self,*args,**kwargs):\n",
    "        # Set default parameters\n",
    "        self.MaxScore = 10\n",
    "        self.nrows = 10\n",
    "        self.ncols = 10\n",
    "        # Update with provided parameters\n",
    "        self.__dict__.update(kwargs)\n",
    "        # Actual initialization\n",
    "        self.MoveEast = np.floor(self.MaxScore*np.random.rand(self.nrows,self.ncols-1))\n",
    "        self.MoveNord = np.floor(self.MaxScore*np.random.rand(self.nrows-1,self.ncols))\n",
    "        self.Score = np.zeros((self.nrows,self.ncols))\n",
    "        self.Moves = {}\n",
    "    \n",
    "    \n",
    "    def run(self):\n",
    "        # Fill first column\n",
    "        for i in range(1,self.nrows):\n",
    "            self.Score[i,0] = self.Score[i-1,0] + self.MoveNord[i-1,0]\n",
    "            self.Moves[str(i) + ',0'] = i*['Nord']\n",
    "        # Fill first row\n",
    "        for j in range(1,self.ncols):\n",
    "            self.Score[0,j] = self.Score[0,j-1] + self.MoveEast[0,j-1]\n",
    "            self.Moves['0,' + str(j)] = j*['East']\n",
    "        # Iteratively fill the Score Matrix; save moves that maximize score to all vertexes\n",
    "        for i in range(1,self.nrows):\n",
    "            for j in range(1,self.ncols):\n",
    "                self.Score[i,j] = max(self.Score[i-1,j] + self.MoveNord[i-1,j],\n",
    "                                      self.Score[i,j-1] + self.MoveEast[i,j-1])\n",
    "                if (self.Score[i-1,j] + self.MoveNord[i-1,j] > self.Score[i,j-1] + self.MoveEast[i,j-1]):\n",
    "                    self.Moves[str(i) + ',' + str(j)] = self.Moves[str(i-1) + ',' + str(j)] + ['Nord']\n",
    "                else:\n",
    "                    self.Moves[str(i) + ',' + str(j)] = self.Moves[str(i) + ',' + str(j-1)] + ['East']\n",
    "    \n",
    "    \n",
    "    def visualize(self):\n",
    "        fig,ax = plt.subplots()\n",
    "        # Plain grid plot\n",
    "        x,y = np.meshgrid(np.arange(self.nrows),np.arange(self.ncols))\n",
    "        ax.plot(x,y,'o',markersize=5,color='black')\n",
    "        ax.get_xaxis().set_visible(False)\n",
    "        ax.get_yaxis().set_visible(False)\n",
    "        # Steps and scores\n",
    "        for xpos in np.unique(x):\n",
    "            for ypos in np.unique(y)[:-1]:\n",
    "                ax.arrow(xpos,ypos+0.2,0,0.6,width=0.02,color='lightblue')\n",
    "                ax.text(xpos,ypos+0.5,str(np.transpose(self.MoveNord)[xpos,ypos]))\n",
    "        for xpos in np.unique(x)[:-1]:\n",
    "            for ypos in np.unique(y):\n",
    "                ax.arrow(xpos+0.2,ypos,0.6,0,width=0.02,color='lightblue')\n",
    "                ax.text(xpos+0.5,ypos,str(np.transpose(self.MoveEast)[xpos,ypos]))\n",
    "        return ax"
   ]
  },
  {
   "cell_type": "code",
   "execution_count": null,
   "id": "3a533c8b",
   "metadata": {},
   "outputs": [],
   "source": [
    "M = ManhattanSolver(nrows=4,ncols=4)\n",
    "M.visualize()"
   ]
  },
  {
   "cell_type": "code",
   "execution_count": null,
   "id": "1de9fbdc",
   "metadata": {},
   "outputs": [],
   "source": []
  }
 ],
 "metadata": {
  "kernelspec": {
   "display_name": "Python 3",
   "language": "python",
   "name": "python3"
  },
  "language_info": {
   "codemirror_mode": {
    "name": "ipython",
    "version": 3
   },
   "file_extension": ".py",
   "mimetype": "text/x-python",
   "name": "python",
   "nbconvert_exporter": "python",
   "pygments_lexer": "ipython3",
   "version": "3.8.8"
  }
 },
 "nbformat": 4,
 "nbformat_minor": 5
}
