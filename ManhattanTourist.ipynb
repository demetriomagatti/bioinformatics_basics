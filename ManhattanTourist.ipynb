{
 "cells": [
  {
   "cell_type": "code",
   "execution_count": 1,
   "id": "6e74de7a",
   "metadata": {},
   "outputs": [
    {
     "data": {
      "application/javascript": [
       "require([\"codemirror/keymap/sublime\", \"notebook/js/cell\", \"base/js/namespace\"],\n",
       "    function(sublime_keymap, cell, IPython){\n",
       "        cell.Cell.options_default.cm_config.keyMap = 'sublime';\n",
       "        var cells = IPython.notebook.get_cells();\n",
       "        for(var cl=0; cl< cells.length ; cl++){\n",
       "            cells[cl].code_mirror.setOption('keyMap', 'sublime');\n",
       "        }\n",
       "    }\n",
       ");\n"
      ],
      "text/plain": [
       "<IPython.core.display.Javascript object>"
      ]
     },
     "metadata": {},
     "output_type": "display_data"
    }
   ],
   "source": [
    "%%javascript\n",
    "require([\"codemirror/keymap/sublime\", \"notebook/js/cell\", \"base/js/namespace\"],\n",
    "    function(sublime_keymap, cell, IPython){\n",
    "        cell.Cell.options_default.cm_config.keyMap = 'sublime';\n",
    "        var cells = IPython.notebook.get_cells();\n",
    "        for(var cl=0; cl< cells.length ; cl++){\n",
    "            cells[cl].code_mirror.setOption('keyMap', 'sublime');\n",
    "        }\n",
    "    }\n",
    ");"
   ]
  },
  {
   "cell_type": "code",
   "execution_count": 2,
   "id": "f972e5ba",
   "metadata": {},
   "outputs": [],
   "source": [
    "import numpy as np\n",
    "import matplotlib.pyplot as plt\n",
    "%matplotlib inline"
   ]
  },
  {
   "cell_type": "code",
   "execution_count": 3,
   "id": "51b9da8f",
   "metadata": {},
   "outputs": [
    {
     "name": "stdout",
     "output_type": "stream",
     "text": [
      "Collecting git+https://github.com/demetriomagatti/bioinformatics_basics.git@main\n",
      "  Cloning https://github.com/demetriomagatti/bioinformatics_basics.git (to revision main) to /tmp/pip-req-build-h_t0y6nl\n",
      "  Running command git clone -q https://github.com/demetriomagatti/bioinformatics_basics.git /tmp/pip-req-build-h_t0y6nl\n",
      "Note: you may need to restart the kernel to use updated packages.\n"
     ]
    }
   ],
   "source": [
    "pip install git+https://github.com/demetriomagatti/bioinformatics_basics.git@main"
   ]
  },
  {
   "cell_type": "markdown",
   "id": "382e71c4",
   "metadata": {},
   "source": [
    "### Example"
   ]
  },
  {
   "cell_type": "code",
   "execution_count": 4,
   "id": "794ea555",
   "metadata": {},
   "outputs": [
    {
     "name": "stdout",
     "output_type": "stream",
     "text": [
      "Initialized module\n"
     ]
    }
   ],
   "source": [
    "from bioinformatics_basics import alignment\n",
    "solver = alignment.ManhattanSolver(nrows=5,ncols=5,MaxScore=10)"
   ]
  },
  {
   "cell_type": "code",
   "execution_count": 5,
   "id": "4dadeb8f",
   "metadata": {},
   "outputs": [
    {
     "data": {
      "text/plain": [
       "array([[8., 3., 9., 4., 9.],\n",
       "       [1., 4., 3., 8., 9.],\n",
       "       [0., 2., 5., 2., 8.],\n",
       "       [7., 0., 4., 9., 3.]])"
      ]
     },
     "execution_count": 5,
     "metadata": {},
     "output_type": "execute_result"
    }
   ],
   "source": [
    "# matrix containing scores for \"to nord\" movements\n",
    "solver.MoveNord"
   ]
  },
  {
   "cell_type": "code",
   "execution_count": 6,
   "id": "305f9b71",
   "metadata": {},
   "outputs": [
    {
     "data": {
      "text/plain": [
       "array([[5., 6., 5., 2.],\n",
       "       [6., 9., 1., 0.],\n",
       "       [4., 8., 7., 0.],\n",
       "       [5., 9., 2., 6.],\n",
       "       [0., 0., 2., 0.]])"
      ]
     },
     "execution_count": 6,
     "metadata": {},
     "output_type": "execute_result"
    }
   ],
   "source": [
    "# matrix containing scores for \"to east\" movements\n",
    "solver.MoveEast"
   ]
  },
  {
   "cell_type": "code",
   "execution_count": 7,
   "id": "a30aa12b",
   "metadata": {},
   "outputs": [
    {
     "data": {
      "text/plain": [
       "array([[0., 0., 0., 0., 0.],\n",
       "       [0., 0., 0., 0., 0.],\n",
       "       [0., 0., 0., 0., 0.],\n",
       "       [0., 0., 0., 0., 0.],\n",
       "       [0., 0., 0., 0., 0.]])"
      ]
     },
     "execution_count": 7,
     "metadata": {},
     "output_type": "execute_result"
    }
   ],
   "source": [
    "# matrix containing maximum score to a vertex - empty before running\n",
    "solver.Score"
   ]
  },
  {
   "cell_type": "code",
   "execution_count": 8,
   "id": "56c16374",
   "metadata": {},
   "outputs": [
    {
     "data": {
      "text/plain": [
       "{}"
      ]
     },
     "execution_count": 8,
     "metadata": {},
     "output_type": "execute_result"
    }
   ],
   "source": [
    "# moves to maximize score to a vertex - empty before running\n",
    "solver.Moves"
   ]
  },
  {
   "cell_type": "code",
   "execution_count": 9,
   "id": "c43660cc",
   "metadata": {},
   "outputs": [],
   "source": [
    "solver.run()"
   ]
  },
  {
   "cell_type": "code",
   "execution_count": 10,
   "id": "a1ce9021",
   "metadata": {},
   "outputs": [
    {
     "data": {
      "text/plain": [
       "array([[ 0.,  5., 11., 16., 18.],\n",
       "       [ 8., 14., 23., 24., 27.],\n",
       "       [ 9., 18., 26., 33., 36.],\n",
       "       [ 9., 20., 31., 35., 44.],\n",
       "       [16., 20., 35., 44., 47.]])"
      ]
     },
     "execution_count": 10,
     "metadata": {},
     "output_type": "execute_result"
    }
   ],
   "source": [
    "# matrix containing maximum score to a vertex\n",
    "solver.Score"
   ]
  },
  {
   "cell_type": "code",
   "execution_count": 11,
   "id": "ce682579",
   "metadata": {},
   "outputs": [
    {
     "data": {
      "text/plain": [
       "['East', 'East', 'East', 'East', 'Nord', 'Nord', 'Nord', 'Nord']"
      ]
     },
     "execution_count": 11,
     "metadata": {},
     "output_type": "execute_result"
    }
   ],
   "source": [
    "# moves to maximize score to the final vertex\n",
    "solver.Moves[list(solver.Moves.keys())[-1]]"
   ]
  },
  {
   "cell_type": "code",
   "execution_count": 12,
   "id": "05596847",
   "metadata": {},
   "outputs": [
    {
     "data": {
      "text/plain": [
       "<AxesSubplot:>"
      ]
     },
     "execution_count": 12,
     "metadata": {},
     "output_type": "execute_result"
    },
    {
     "data": {
      "image/png": "[encoded data removed]",
      "text/plain": [
       "<Figure size 432x288 with 1 Axes>"
      ]
     },
     "metadata": {
      "needs_background": "light"
     },
     "output_type": "display_data"
    }
   ],
   "source": [
    "# visual check\n",
    "solver.visualize()"
   ]
  },
  {
   "cell_type": "code",
   "execution_count": null,
   "id": "67d5a733",
   "metadata": {},
   "outputs": [],
   "source": []
  }
 ],
 "metadata": {
  "kernelspec": {
   "display_name": "Python 3",
   "language": "python",
   "name": "python3"
  },
  "language_info": {
   "codemirror_mode": {
    "name": "ipython",
    "version": 3
   },
   "file_extension": ".py",
   "mimetype": "text/x-python",
   "name": "python",
   "nbconvert_exporter": "python",
   "pygments_lexer": "ipython3",
   "version": "3.8.8"
  }
 },
 "nbformat": 4,
 "nbformat_minor": 5
}
