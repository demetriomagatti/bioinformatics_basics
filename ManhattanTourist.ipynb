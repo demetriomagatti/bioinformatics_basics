{
 "cells": [
  {
   "cell_type": "code",
   "execution_count": 1,
   "id": "6e74de7a",
   "metadata": {},
   "outputs": [
    {
     "data": {
      "application/javascript": [
       "require([\"codemirror/keymap/sublime\", \"notebook/js/cell\", \"base/js/namespace\"],\n",
       "    function(sublime_keymap, cell, IPython){\n",
       "        cell.Cell.options_default.cm_config.keyMap = 'sublime';\n",
       "        var cells = IPython.notebook.get_cells();\n",
       "        for(var cl=0; cl< cells.length ; cl++){\n",
       "            cells[cl].code_mirror.setOption('keyMap', 'sublime');\n",
       "        }\n",
       "    }\n",
       ");\n"
      ],
      "text/plain": [
       "<IPython.core.display.Javascript object>"
      ]
     },
     "metadata": {},
     "output_type": "display_data"
    }
   ],
   "source": [
    "%%javascript\n",
    "require([\"codemirror/keymap/sublime\", \"notebook/js/cell\", \"base/js/namespace\"],\n",
    "    function(sublime_keymap, cell, IPython){\n",
    "        cell.Cell.options_default.cm_config.keyMap = 'sublime';\n",
    "        var cells = IPython.notebook.get_cells();\n",
    "        for(var cl=0; cl< cells.length ; cl++){\n",
    "            cells[cl].code_mirror.setOption('keyMap', 'sublime');\n",
    "        }\n",
    "    }\n",
    ");"
   ]
  },
  {
   "cell_type": "code",
   "execution_count": 2,
   "id": "f972e5ba",
   "metadata": {},
   "outputs": [],
   "source": [
    "import numpy as np\n",
    "import matplotlib.pyplot as plt\n",
    "%matplotlib inline"
   ]
  },
  {
   "cell_type": "code",
   "execution_count": 3,
   "id": "43d5a151",
   "metadata": {},
   "outputs": [
    {
     "name": "stdout",
     "output_type": "stream",
     "text": [
      "Collecting git+https://github.com/demetriomagatti/bioinformatics_basics.git@main\n",
      "  Cloning https://github.com/demetriomagatti/bioinformatics_basics.git (to revision main) to /tmp/pip-req-build-p5v2g6jd\n",
      "  Running command git clone -q https://github.com/demetriomagatti/bioinformatics_basics.git /tmp/pip-req-build-p5v2g6jd\n",
      "Note: you may need to restart the kernel to use updated packages.\n"
     ]
    }
   ],
   "source": [
    "pip install git+https://github.com/demetriomagatti/bioinformatics_basics.git@main"
   ]
  },
  {
   "cell_type": "markdown",
   "id": "1e227a69",
   "metadata": {},
   "source": [
    "### Example"
   ]
  },
  {
   "cell_type": "code",
   "execution_count": 40,
   "id": "794ea555",
   "metadata": {},
   "outputs": [],
   "source": [
    "from bioinformatics_basics import alignment\n",
    "solver = alignment.ManhattanSolver(nrows=6,ncols=5,MaxScore=10)"
   ]
  },
  {
   "cell_type": "code",
   "execution_count": 41,
   "id": "1e5727a3",
   "metadata": {},
   "outputs": [
    {
     "data": {
      "text/plain": [
       "array([[9., 1., 3., 5., 2.],\n",
       "       [7., 0., 0., 6., 5.],\n",
       "       [4., 3., 8., 2., 9.],\n",
       "       [5., 7., 6., 9., 4.],\n",
       "       [2., 3., 6., 7., 0.]])"
      ]
     },
     "execution_count": 41,
     "metadata": {},
     "output_type": "execute_result"
    }
   ],
   "source": [
    "# matrix containing scores for \"to nord\" movements\n",
    "solver.MoveNord"
   ]
  },
  {
   "cell_type": "code",
   "execution_count": 42,
   "id": "ce9adb0c",
   "metadata": {},
   "outputs": [
    {
     "data": {
      "text/plain": [
       "array([[5., 0., 1., 1.],\n",
       "       [0., 1., 3., 1.],\n",
       "       [9., 8., 7., 5.],\n",
       "       [0., 6., 0., 5.],\n",
       "       [3., 0., 7., 0.],\n",
       "       [6., 8., 8., 5.]])"
      ]
     },
     "execution_count": 42,
     "metadata": {},
     "output_type": "execute_result"
    }
   ],
   "source": [
    "# matrix containing scores for \"to east\" movements\n",
    "solver.MoveEast"
   ]
  },
  {
   "cell_type": "code",
   "execution_count": 43,
   "id": "b395bb1d",
   "metadata": {},
   "outputs": [
    {
     "data": {
      "text/plain": [
       "array([[0., 0., 0., 0., 0.],\n",
       "       [0., 0., 0., 0., 0.],\n",
       "       [0., 0., 0., 0., 0.],\n",
       "       [0., 0., 0., 0., 0.],\n",
       "       [0., 0., 0., 0., 0.],\n",
       "       [0., 0., 0., 0., 0.]])"
      ]
     },
     "execution_count": 43,
     "metadata": {},
     "output_type": "execute_result"
    }
   ],
   "source": [
    "# matrix containing maximum score to a vertex - empty before running\n",
    "solver.Score"
   ]
  },
  {
   "cell_type": "code",
   "execution_count": 44,
   "id": "aed77ac4",
   "metadata": {},
   "outputs": [
    {
     "data": {
      "text/plain": [
       "{}"
      ]
     },
     "execution_count": 44,
     "metadata": {},
     "output_type": "execute_result"
    }
   ],
   "source": [
    "# moves to maximize score to a vertex - empty before running\n",
    "solver.Moves"
   ]
  },
  {
   "cell_type": "code",
   "execution_count": 45,
   "id": "4daa47e9",
   "metadata": {},
   "outputs": [],
   "source": [
    "solver.run()"
   ]
  },
  {
   "cell_type": "code",
   "execution_count": 46,
   "id": "540bf7e3",
   "metadata": {},
   "outputs": [
    {
     "data": {
      "text/plain": [
       "array([[ 0.,  5.,  5.,  6.,  7.],\n",
       "       [ 9.,  9., 10., 13., 14.],\n",
       "       [16., 25., 33., 40., 45.],\n",
       "       [20., 28., 41., 42., 54.],\n",
       "       [25., 35., 47., 54., 58.],\n",
       "       [27., 38., 53., 61., 66.]])"
      ]
     },
     "execution_count": 46,
     "metadata": {},
     "output_type": "execute_result"
    }
   ],
   "source": [
    "# matrix containing maximum score to a vertex\n",
    "solver.Score"
   ]
  },
  {
   "cell_type": "code",
   "execution_count": 58,
   "id": "88d5123d",
   "metadata": {},
   "outputs": [
    {
     "data": {
      "text/plain": [
       "['Nord', 'Nord', 'East', 'East', 'Nord', 'Nord', 'Nord', 'East', 'East']"
      ]
     },
     "execution_count": 58,
     "metadata": {},
     "output_type": "execute_result"
    }
   ],
   "source": [
    "# moves to maximize score to the final vertex\n",
    "solver.Moves[list(solver.Moves.keys())[-1]]"
   ]
  },
  {
   "cell_type": "code",
   "execution_count": 59,
   "id": "8468cd21",
   "metadata": {
    "scrolled": false
   },
   "outputs": [
    {
     "data": {
      "text/plain": [
       "<AxesSubplot:>"
      ]
     },
     "execution_count": 59,
     "metadata": {},
     "output_type": "execute_result"
    },
    {
     "data": {
      "image/png": "[encoded data removed]",
      "text/plain": [
       "<Figure size 432x288 with 1 Axes>"
      ]
     },
     "metadata": {
      "needs_background": "light"
     },
     "output_type": "display_data"
    }
   ],
   "source": [
    "# visual check\n",
    "solver.visualize()"
   ]
  },
  {
   "cell_type": "code",
   "execution_count": 84,
   "id": "e9e1f653",
   "metadata": {
    "scrolled": true
   },
   "outputs": [],
   "source": [
    "for key in solver.Moves.keys():\n",
    "    path = [[0,0]]\n",
    "    for i in range(len(solver.Moves[key])):\n",
    "        path.append([solver.Moves[key][:i+1].count('East'),solver.Moves[key][:i+1].count('Nord')])"
   ]
  },
  {
   "cell_type": "code",
   "execution_count": 85,
   "id": "ccba5214",
   "metadata": {},
   "outputs": [
    {
     "data": {
      "text/plain": [
       "[[0, 0],\n",
       " [0, 1],\n",
       " [0, 2],\n",
       " [1, 2],\n",
       " [2, 2],\n",
       " [2, 3],\n",
       " [2, 4],\n",
       " [2, 5],\n",
       " [3, 5],\n",
       " [4, 5]]"
      ]
     },
     "execution_count": 85,
     "metadata": {},
     "output_type": "execute_result"
    }
   ],
   "source": [
    "path"
   ]
  },
  {
   "cell_type": "code",
   "execution_count": 93,
   "id": "1b4411a8",
   "metadata": {},
   "outputs": [
    {
     "data": {
      "text/plain": [
       "[<matplotlib.lines.Line2D at 0x7f00f5f9a6a0>]"
      ]
     },
     "execution_count": 93,
     "metadata": {},
     "output_type": "execute_result"
    },
    {
     "data": {
      "image/png": "[encoded data removed]",
      "text/plain": [
       "<Figure size 432x288 with 1 Axes>"
      ]
     },
     "metadata": {
      "needs_background": "light"
     },
     "output_type": "display_data"
    }
   ],
   "source": [
    "plt.plot(np.transpose(path)[0],np.transpose(path)[1],'.')"
   ]
  },
  {
   "cell_type": "code",
   "execution_count": null,
   "id": "b3bb78a2",
   "metadata": {},
   "outputs": [],
   "source": []
  }
 ],
 "metadata": {
  "kernelspec": {
   "display_name": "Python 3",
   "language": "python",
   "name": "python3"
  },
  "language_info": {
   "codemirror_mode": {
    "name": "ipython",
    "version": 3
   },
   "file_extension": ".py",
   "mimetype": "text/x-python",
   "name": "python",
   "nbconvert_exporter": "python",
   "pygments_lexer": "ipython3",
   "version": "3.8.8"
  }
 },
 "nbformat": 4,
 "nbformat_minor": 5
}
