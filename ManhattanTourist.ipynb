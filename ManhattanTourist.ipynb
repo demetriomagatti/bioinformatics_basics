{
 "cells": [
  {
   "cell_type": "code",
   "execution_count": 1,
   "id": "6e74de7a",
   "metadata": {},
   "outputs": [
    {
     "data": {
      "application/javascript": [
       "require([\"codemirror/keymap/sublime\", \"notebook/js/cell\", \"base/js/namespace\"],\n",
       "    function(sublime_keymap, cell, IPython){\n",
       "        cell.Cell.options_default.cm_config.keyMap = 'sublime';\n",
       "        var cells = IPython.notebook.get_cells();\n",
       "        for(var cl=0; cl< cells.length ; cl++){\n",
       "            cells[cl].code_mirror.setOption('keyMap', 'sublime');\n",
       "        }\n",
       "    }\n",
       ");\n"
      ],
      "text/plain": [
       "<IPython.core.display.Javascript object>"
      ]
     },
     "metadata": {},
     "output_type": "display_data"
    }
   ],
   "source": [
    "%%javascript\n",
    "require([\"codemirror/keymap/sublime\", \"notebook/js/cell\", \"base/js/namespace\"],\n",
    "    function(sublime_keymap, cell, IPython){\n",
    "        cell.Cell.options_default.cm_config.keyMap = 'sublime';\n",
    "        var cells = IPython.notebook.get_cells();\n",
    "        for(var cl=0; cl< cells.length ; cl++){\n",
    "            cells[cl].code_mirror.setOption('keyMap', 'sublime');\n",
    "        }\n",
    "    }\n",
    ");"
   ]
  },
  {
   "cell_type": "code",
   "execution_count": 2,
   "id": "f972e5ba",
   "metadata": {},
   "outputs": [],
   "source": [
    "import numpy as np\n",
    "import matplotlib.pyplot as plt\n",
    "%matplotlib inline"
   ]
  },
  {
   "cell_type": "code",
   "execution_count": 3,
   "id": "43d5a151",
   "metadata": {},
   "outputs": [
    {
     "name": "stdout",
     "output_type": "stream",
     "text": [
      "Collecting git+https://github.com/demetriomagatti/bioinformatics_basics.git@main\n",
      "  Cloning https://github.com/demetriomagatti/bioinformatics_basics.git (to revision main) to /tmp/pip-req-build-_pikq9ac\n",
      "  Running command git clone -q https://github.com/demetriomagatti/bioinformatics_basics.git /tmp/pip-req-build-_pikq9ac\n",
      "Note: you may need to restart the kernel to use updated packages.\n"
     ]
    }
   ],
   "source": [
    "pip install git+https://github.com/demetriomagatti/bioinformatics_basics.git@main"
   ]
  },
  {
   "cell_type": "markdown",
   "id": "1e227a69",
   "metadata": {},
   "source": [
    "### Example"
   ]
  },
  {
   "cell_type": "code",
   "execution_count": 4,
   "id": "794ea555",
   "metadata": {},
   "outputs": [
    {
     "name": "stdout",
     "output_type": "stream",
     "text": [
      "Initialized module\n"
     ]
    }
   ],
   "source": [
    "from bioinformatics_basics import alignment\n",
    "solver = alignment.ManhattanSolver(nrows=6,ncols=5,MaxScore=10)"
   ]
  },
  {
   "cell_type": "code",
   "execution_count": 5,
   "id": "1e5727a3",
   "metadata": {},
   "outputs": [
    {
     "data": {
      "text/plain": [
       "array([[8., 2., 5., 0., 0.],\n",
       "       [3., 7., 2., 3., 7.],\n",
       "       [4., 0., 4., 2., 8.],\n",
       "       [8., 6., 1., 5., 5.],\n",
       "       [7., 3., 9., 3., 4.]])"
      ]
     },
     "execution_count": 5,
     "metadata": {},
     "output_type": "execute_result"
    }
   ],
   "source": [
    "# matrix containing scores for \"to nord\" movements\n",
    "solver.MoveNord"
   ]
  },
  {
   "cell_type": "code",
   "execution_count": 6,
   "id": "ce9adb0c",
   "metadata": {},
   "outputs": [
    {
     "data": {
      "text/plain": [
       "array([[4., 1., 3., 8.],\n",
       "       [6., 6., 2., 9.],\n",
       "       [5., 8., 9., 6.],\n",
       "       [9., 1., 7., 0.],\n",
       "       [6., 6., 5., 5.],\n",
       "       [6., 1., 8., 7.]])"
      ]
     },
     "execution_count": 6,
     "metadata": {},
     "output_type": "execute_result"
    }
   ],
   "source": [
    "# matrix containing scores for \"to east\" movements\n",
    "solver.MoveEast"
   ]
  },
  {
   "cell_type": "code",
   "execution_count": 7,
   "id": "b395bb1d",
   "metadata": {},
   "outputs": [
    {
     "data": {
      "text/plain": [
       "array([[0., 0., 0., 0., 0.],\n",
       "       [0., 0., 0., 0., 0.],\n",
       "       [0., 0., 0., 0., 0.],\n",
       "       [0., 0., 0., 0., 0.],\n",
       "       [0., 0., 0., 0., 0.],\n",
       "       [0., 0., 0., 0., 0.]])"
      ]
     },
     "execution_count": 7,
     "metadata": {},
     "output_type": "execute_result"
    }
   ],
   "source": [
    "# matrix containing maximum score to a vertex - empty before running\n",
    "solver.Score"
   ]
  },
  {
   "cell_type": "code",
   "execution_count": 8,
   "id": "aed77ac4",
   "metadata": {},
   "outputs": [
    {
     "data": {
      "text/plain": [
       "{}"
      ]
     },
     "execution_count": 8,
     "metadata": {},
     "output_type": "execute_result"
    }
   ],
   "source": [
    "# moves to maximize score to a vertex - empty before running\n",
    "solver.Moves"
   ]
  },
  {
   "cell_type": "code",
   "execution_count": 9,
   "id": "4daa47e9",
   "metadata": {},
   "outputs": [],
   "source": [
    "solver.run()"
   ]
  },
  {
   "cell_type": "code",
   "execution_count": 10,
   "id": "540bf7e3",
   "metadata": {},
   "outputs": [
    {
     "data": {
      "text/plain": [
       "array([[ 0.,  4.,  5.,  8., 16.],\n",
       "       [ 8., 14., 20., 22., 31.],\n",
       "       [11., 21., 29., 38., 44.],\n",
       "       [15., 24., 33., 40., 52.],\n",
       "       [23., 30., 36., 45., 57.],\n",
       "       [30., 36., 45., 53., 61.]])"
      ]
     },
     "execution_count": 10,
     "metadata": {},
     "output_type": "execute_result"
    }
   ],
   "source": [
    "# matrix containing maximum score to a vertex\n",
    "solver.Score"
   ]
  },
  {
   "cell_type": "code",
   "execution_count": 11,
   "id": "88d5123d",
   "metadata": {},
   "outputs": [
    {
     "data": {
      "text/plain": [
       "['Nord', 'East', 'Nord', 'East', 'East', 'East', 'Nord', 'Nord', 'Nord']"
      ]
     },
     "execution_count": 11,
     "metadata": {},
     "output_type": "execute_result"
    }
   ],
   "source": [
    "# moves to maximize score to the final vertex\n",
    "solver.Moves[list(solver.Moves.keys())[-1]]"
   ]
  },
  {
   "cell_type": "code",
   "execution_count": 13,
   "id": "69897520",
   "metadata": {},
   "outputs": [],
   "source": [
    "solver.makePath()"
   ]
  },
  {
   "cell_type": "code",
   "execution_count": 14,
   "id": "8468cd21",
   "metadata": {
    "scrolled": false
   },
   "outputs": [
    {
     "data": {
      "text/plain": [
       "<AxesSubplot:>"
      ]
     },
     "execution_count": 14,
     "metadata": {},
     "output_type": "execute_result"
    },
    {
     "data": {
      "image/png": "[encoded data removed]",
      "text/plain": [
       "<Figure size 432x288 with 1 Axes>"
      ]
     },
     "metadata": {
      "needs_background": "light"
     },
     "output_type": "display_data"
    }
   ],
   "source": [
    "# visual check\n",
    "solver.visualize()"
   ]
  },
  {
   "cell_type": "code",
   "execution_count": null,
   "id": "3371e9e1",
   "metadata": {
    "scrolled": true
   },
   "outputs": [],
   "source": [
    "for key in solver.Moves.keys():\n",
    "    path = [[0,0]]\n",
    "    for i in range(len(solver.Moves[key])):\n",
    "        path.append([solver.Moves[key][:i+1].count('East'),solver.Moves[key][:i+1].count('Nord')])"
   ]
  },
  {
   "cell_type": "code",
   "execution_count": null,
   "id": "7cce304d",
   "metadata": {},
   "outputs": [],
   "source": [
    "path"
   ]
  },
  {
   "cell_type": "code",
   "execution_count": 15,
   "id": "e805a841",
   "metadata": {},
   "outputs": [],
   "source": [
    "test = {''}\n",
    "if test:\n",
    "    print('ci')"
   ]
  },
  {
   "cell_type": "code",
   "execution_count": null,
   "id": "5108c09c",
   "metadata": {},
   "outputs": [],
   "source": []
  }
 ],
 "metadata": {
  "kernelspec": {
   "display_name": "Python 3",
   "language": "python",
   "name": "python3"
  },
  "language_info": {
   "codemirror_mode": {
    "name": "ipython",
    "version": 3
   },
   "file_extension": ".py",
   "mimetype": "text/x-python",
   "name": "python",
   "nbconvert_exporter": "python",
   "pygments_lexer": "ipython3",
   "version": "3.8.8"
  }
 },
 "nbformat": 4,
 "nbformat_minor": 5
}
