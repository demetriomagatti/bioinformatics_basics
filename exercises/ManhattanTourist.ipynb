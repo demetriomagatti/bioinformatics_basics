{
 "cells": [
  {
   "cell_type": "code",
   "execution_count": 1,
   "id": "6e74de7a",
   "metadata": {},
   "outputs": [
    {
     "data": {
      "application/javascript": [
       "require([\"codemirror/keymap/sublime\", \"notebook/js/cell\", \"base/js/namespace\"],\n",
       "    function(sublime_keymap, cell, IPython){\n",
       "        cell.Cell.options_default.cm_config.keyMap = 'sublime';\n",
       "        var cells = IPython.notebook.get_cells();\n",
       "        for(var cl=0; cl< cells.length ; cl++){\n",
       "            cells[cl].code_mirror.setOption('keyMap', 'sublime');\n",
       "        }\n",
       "    }\n",
       ");\n"
      ],
      "text/plain": [
       "<IPython.core.display.Javascript object>"
      ]
     },
     "metadata": {},
     "output_type": "display_data"
    }
   ],
   "source": [
    "%%javascript\n",
    "require([\"codemirror/keymap/sublime\", \"notebook/js/cell\", \"base/js/namespace\"],\n",
    "    function(sublime_keymap, cell, IPython){\n",
    "        cell.Cell.options_default.cm_config.keyMap = 'sublime';\n",
    "        var cells = IPython.notebook.get_cells();\n",
    "        for(var cl=0; cl< cells.length ; cl++){\n",
    "            cells[cl].code_mirror.setOption('keyMap', 'sublime');\n",
    "        }\n",
    "    }\n",
    ");"
   ]
  },
  {
   "cell_type": "code",
   "execution_count": 2,
   "id": "f972e5ba",
   "metadata": {},
   "outputs": [],
   "source": [
    "import numpy as np\n",
    "import matplotlib.pyplot as plt\n",
    "%matplotlib inline"
   ]
  },
  {
   "cell_type": "code",
   "execution_count": 3,
   "id": "43d5a151",
   "metadata": {},
   "outputs": [
    {
     "name": "stdout",
     "output_type": "stream",
     "text": [
      "Collecting git+https://github.com/demetriomagatti/bioinformatics_basics.git@main\n",
      "  Cloning https://github.com/demetriomagatti/bioinformatics_basics.git (to revision main) to /tmp/pip-req-build-dfvy3plw\n",
      "  Running command git clone -q https://github.com/demetriomagatti/bioinformatics_basics.git /tmp/pip-req-build-dfvy3plw\n",
      "Note: you may need to restart the kernel to use updated packages.\n"
     ]
    }
   ],
   "source": [
    "pip install git+https://github.com/demetriomagatti/bioinformatics_basics.git@main"
   ]
  },
  {
   "cell_type": "markdown",
   "id": "1e227a69",
   "metadata": {},
   "source": [
    "### Example"
   ]
  },
  {
   "cell_type": "code",
   "execution_count": 4,
   "id": "794ea555",
   "metadata": {},
   "outputs": [
    {
     "name": "stdout",
     "output_type": "stream",
     "text": [
      "Initialized module\n"
     ]
    }
   ],
   "source": [
    "from bioinformatics_basics import alignment\n",
    "solver = alignment.ManhattanSolver(nrows=5,ncols=5,MaxScore=10)"
   ]
  },
  {
   "cell_type": "code",
   "execution_count": 5,
   "id": "1e5727a3",
   "metadata": {},
   "outputs": [
    {
     "data": {
      "text/plain": [
       "array([[1., 5., 2., 1., 2.],\n",
       "       [6., 7., 1., 2., 8.],\n",
       "       [0., 2., 4., 8., 6.],\n",
       "       [7., 2., 4., 9., 0.]])"
      ]
     },
     "execution_count": 5,
     "metadata": {},
     "output_type": "execute_result"
    }
   ],
   "source": [
    "# matrix containing scores for \"to nord\" movements\n",
    "solver.MoveNord"
   ]
  },
  {
   "cell_type": "code",
   "execution_count": 6,
   "id": "ce9adb0c",
   "metadata": {},
   "outputs": [
    {
     "data": {
      "text/plain": [
       "array([[5., 3., 2., 9.],\n",
       "       [8., 3., 3., 4.],\n",
       "       [7., 1., 9., 0.],\n",
       "       [4., 7., 6., 1.],\n",
       "       [3., 1., 5., 4.]])"
      ]
     },
     "execution_count": 6,
     "metadata": {},
     "output_type": "execute_result"
    }
   ],
   "source": [
    "# matrix containing scores for \"to east\" movements\n",
    "solver.MoveEast"
   ]
  },
  {
   "cell_type": "code",
   "execution_count": 7,
   "id": "b395bb1d",
   "metadata": {},
   "outputs": [
    {
     "data": {
      "text/plain": [
       "array([[0., 0., 0., 0., 0.],\n",
       "       [0., 0., 0., 0., 0.],\n",
       "       [0., 0., 0., 0., 0.],\n",
       "       [0., 0., 0., 0., 0.],\n",
       "       [0., 0., 0., 0., 0.]])"
      ]
     },
     "execution_count": 7,
     "metadata": {},
     "output_type": "execute_result"
    }
   ],
   "source": [
    "# matrix containing maximum score to a vertex - empty before running\n",
    "solver.Score"
   ]
  },
  {
   "cell_type": "code",
   "execution_count": 8,
   "id": "aed77ac4",
   "metadata": {},
   "outputs": [
    {
     "data": {
      "text/plain": [
       "{}"
      ]
     },
     "execution_count": 8,
     "metadata": {},
     "output_type": "execute_result"
    }
   ],
   "source": [
    "# moves to maximize score to a vertex - empty before running\n",
    "solver.Moves"
   ]
  },
  {
   "cell_type": "code",
   "execution_count": 9,
   "id": "4daa47e9",
   "metadata": {},
   "outputs": [],
   "source": [
    "solver.run()"
   ]
  },
  {
   "cell_type": "code",
   "execution_count": 10,
   "id": "540bf7e3",
   "metadata": {},
   "outputs": [
    {
     "data": {
      "text/plain": [
       "array([[ 0.,  5.,  8., 10., 19.],\n",
       "       [ 1., 10., 13., 16., 21.],\n",
       "       [ 7., 17., 18., 27., 29.],\n",
       "       [ 7., 19., 26., 35., 36.],\n",
       "       [14., 21., 30., 44., 48.]])"
      ]
     },
     "execution_count": 10,
     "metadata": {},
     "output_type": "execute_result"
    }
   ],
   "source": [
    "# matrix containing maximum score to a vertex\n",
    "solver.Score"
   ]
  },
  {
   "cell_type": "code",
   "execution_count": 11,
   "id": "88d5123d",
   "metadata": {},
   "outputs": [
    {
     "data": {
      "text/plain": [
       "['East', 'Nord', 'Nord', 'East', 'East', 'Nord', 'Nord', 'East']"
      ]
     },
     "execution_count": 11,
     "metadata": {},
     "output_type": "execute_result"
    }
   ],
   "source": [
    "# moves to maximize score to the final vertex\n",
    "solver.Moves[list(solver.Moves.keys())[-1]]"
   ]
  },
  {
   "cell_type": "code",
   "execution_count": 12,
   "id": "8468cd21",
   "metadata": {},
   "outputs": [
    {
     "data": {
      "text/plain": [
       "<AxesSubplot:>"
      ]
     },
     "execution_count": 12,
     "metadata": {},
     "output_type": "execute_result"
    },
    {
     "data": {
      "image/png": "[encoded data removed]",
      "text/plain": [
       "<Figure size 432x288 with 1 Axes>"
      ]
     },
     "metadata": {
      "needs_background": "light"
     },
     "output_type": "display_data"
    }
   ],
   "source": [
    "# visual check\n",
    "solver.visualize()"
   ]
  }
 ],
 "metadata": {
  "kernelspec": {
   "display_name": "Python 3",
   "language": "python",
   "name": "python3"
  },
  "language_info": {
   "codemirror_mode": {
    "name": "ipython",
    "version": 3
   },
   "file_extension": ".py",
   "mimetype": "text/x-python",
   "name": "python",
   "nbconvert_exporter": "python",
   "pygments_lexer": "ipython3",
   "version": "3.8.8"
  }
 },
 "nbformat": 4,
 "nbformat_minor": 5
}
