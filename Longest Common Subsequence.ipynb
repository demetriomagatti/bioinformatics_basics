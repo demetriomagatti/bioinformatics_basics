{
 "cells": [
  {
   "cell_type": "code",
   "execution_count": 1,
   "id": "059aa4c2",
   "metadata": {},
   "outputs": [
    {
     "data": {
      "application/javascript": [
       "require([\"codemirror/keymap/sublime\", \"notebook/js/cell\", \"base/js/namespace\"],\n",
       "    function(sublime_keymap, cell, IPython){\n",
       "        cell.Cell.options_default.cm_config.keyMap = 'sublime';\n",
       "        var cells = IPython.notebook.get_cells();\n",
       "        for(var cl=0; cl< cells.length ; cl++){\n",
       "            cells[cl].code_mirror.setOption('keyMap', 'sublime');\n",
       "        }\n",
       "    }\n",
       ");\n"
      ],
      "text/plain": [
       "<IPython.core.display.Javascript object>"
      ]
     },
     "metadata": {},
     "output_type": "display_data"
    }
   ],
   "source": [
    "%%javascript\n",
    "require([\"codemirror/keymap/sublime\", \"notebook/js/cell\", \"base/js/namespace\"],\n",
    "    function(sublime_keymap, cell, IPython){\n",
    "        cell.Cell.options_default.cm_config.keyMap = 'sublime';\n",
    "        var cells = IPython.notebook.get_cells();\n",
    "        for(var cl=0; cl< cells.length ; cl++){\n",
    "            cells[cl].code_mirror.setOption('keyMap', 'sublime');\n",
    "        }\n",
    "    }\n",
    ");"
   ]
  },
  {
   "cell_type": "code",
   "execution_count": 18,
   "id": "7b35f820",
   "metadata": {},
   "outputs": [],
   "source": [
    "import numpy as np\n",
    "import pandas as pd\n",
    "import matplotlib.pyplot as plt\n",
    "%matplotlib inline"
   ]
  },
  {
   "cell_type": "code",
   "execution_count": 741,
   "id": "0f025f3d",
   "metadata": {},
   "outputs": [],
   "source": [
    "class LongestCommonSubsequence():\n",
    "    def __init__(self,*args,**kwargs):\n",
    "        # Set default parameters\n",
    "        self.L1 = 10\n",
    "        self.L2 = 10\n",
    "        self.replace = {0:'A', 1:'B', 2:'C', 3:'D'}\n",
    "        self.Seq1 = np.array([])\n",
    "        self.Seq2 = np.array([])\n",
    "        # Update with provided parameters\n",
    "        self.__dict__.update(kwargs)\n",
    "        # Actual initialization\n",
    "        if not self.Seq1.size:\n",
    "            self.Seq1 = np.array(pd.Series(np.floor(4*np.random.rand(self.L1))).map(self.replace))\n",
    "            self.Seq2 = np.array(pd.Series(np.floor(4*np.random.rand(self.L2))).map(self.replace))\n",
    "        self.L1 = (len(self.Seq1))\n",
    "        self.L2 = (len(self.Seq2))\n",
    "        self.Score = np.zeros((self.L1+1,self.L2+1))\n",
    "        self.Moves = {}\n",
    "        \n",
    "            \n",
    "    def run(self):\n",
    "        # Fill first column\n",
    "        for i in range(0,self.L1):\n",
    "            self.Score[i,0] = 0\n",
    "            self.Moves[str(i) + ',0'] = i*['Nord']\n",
    "        # Fill first row\n",
    "        for j in range(0,self.L2):\n",
    "            self.Score[0,j] = 0\n",
    "            self.Moves['0,' + str(j)] = j*['East']\n",
    "        # Iteratively fill the Score Matrix; save moves that maximize score to all vertexes\n",
    "        for i in range(1,self.L1+1):\n",
    "            for j in range(1,self.L2+1):\n",
    "                match = (self.Seq1[i-1]==self.Seq2[j-1])\n",
    "                max_score = max(self.Score[i-1,j],self.Score[i,j-1],match*(self.Score[i-1,j-1]+1))\n",
    "                if max_score == self.Score[i-1,j]:\n",
    "                    self.Moves[str(i) + ',' + str(j)] = self.Moves[str(i-1) + ',' + str(j)] + ['Nord']\n",
    "                elif max_score == self.Score[i,j-1]:\n",
    "                    self.Moves[str(i) + ',' + str(j)] = self.Moves[str(i) + ',' + str(j-1)] + ['East']    \n",
    "                elif max_score == match*(self.Score[i-1,j-1]+1):\n",
    "                    self.Moves[str(i) + ',' + str(j)] = self.Moves[str(i-1) + ',' + str(j-1)] + ['Diag']\n",
    "                self.Score[i,j] = max_score\n",
    "    \n",
    "    def visualize(self):\n",
    "        fig,ax = plt.subplots(figsize=(self.L2+1,self.L1+1))\n",
    "        # Plain grid plot\n",
    "        x,y = np.meshgrid(np.arange(self.L2+1),np.arange(self.L1+1))\n",
    "        ax.plot(x,y,'o',markersize=5,color='black')\n",
    "        ax.get_xaxis().set_visible(False)\n",
    "        ax.get_yaxis().set_visible(False)\n",
    "        for xpos in np.unique(x)[:-1]:\n",
    "            ax.text(xpos+0.5,-0.5,self.Seq2[xpos])\n",
    "        for ypos in np.unique(y)[:-1]:\n",
    "            ax.text(-0.5,ypos+0.5,self.Seq1[ypos])\n",
    "        # Steps and scores\n",
    "        for key in self.Moves.keys():\n",
    "            try:\n",
    "                if self.Moves[key][-1] == 'Diag':\n",
    "                    ystart = int(key.split(',')[0])\n",
    "                    xstart = int(key.split(',')[1])\n",
    "                    ax.arrow(xstart-0.9,ystart-0.9,0.8,0.8,width=0.02,head_width=0.2,length_includes_head=True,\n",
    "                             color='lightblue')\n",
    "                    ax.text(xstart-0.5,ystart-0.5,'+1')\n",
    "            except:\n",
    "                pass\n",
    "        return ax"
   ]
  },
  {
   "cell_type": "code",
   "execution_count": 742,
   "id": "15627f84",
   "metadata": {},
   "outputs": [],
   "source": [
    "CustomSeq1 = 'TGCA'\n",
    "CustomSeq2 = 'TGCA'"
   ]
  },
  {
   "cell_type": "code",
   "execution_count": 743,
   "id": "1fde3d11",
   "metadata": {},
   "outputs": [],
   "source": [
    "LCS = LongestCommonSubsequence(Seq1=np.array(list(CustomSeq1)),Seq2=np.array(list(CustomSeq2)))"
   ]
  },
  {
   "cell_type": "code",
   "execution_count": 744,
   "id": "e40d736a",
   "metadata": {
    "scrolled": true
   },
   "outputs": [],
   "source": [
    "LCS.run()"
   ]
  },
  {
   "cell_type": "code",
   "execution_count": 745,
   "id": "ba31f821",
   "metadata": {},
   "outputs": [
    {
     "data": {
      "text/plain": [
       "array([[0., 0., 0., 0., 0.],\n",
       "       [0., 1., 1., 1., 1.],\n",
       "       [0., 1., 2., 2., 2.],\n",
       "       [0., 1., 2., 3., 3.],\n",
       "       [0., 1., 2., 3., 4.]])"
      ]
     },
     "execution_count": 745,
     "metadata": {},
     "output_type": "execute_result"
    }
   ],
   "source": [
    "LCS.Score"
   ]
  },
  {
   "cell_type": "code",
   "execution_count": 746,
   "id": "d4ec23b3",
   "metadata": {},
   "outputs": [
    {
     "data": {
      "text/plain": [
       "['Diag', 'Diag', 'Diag', 'Diag']"
      ]
     },
     "execution_count": 746,
     "metadata": {},
     "output_type": "execute_result"
    }
   ],
   "source": [
    "LCS.Moves[list(LCS.Moves.keys())[-1]]"
   ]
  },
  {
   "cell_type": "code",
   "execution_count": 747,
   "id": "0587ed77",
   "metadata": {},
   "outputs": [
    {
     "data": {
      "text/plain": [
       "<AxesSubplot:>"
      ]
     },
     "execution_count": 747,
     "metadata": {},
     "output_type": "execute_result"
    },
    {
     "data": {
      "image/png": "[encoded data removed]",
      "text/plain": [
       "<Figure size 360x360 with 1 Axes>"
      ]
     },
     "metadata": {
      "needs_background": "light"
     },
     "output_type": "display_data"
    }
   ],
   "source": [
    "LCS.visualize()"
   ]
  },
  {
   "cell_type": "code",
   "execution_count": 748,
   "id": "fedf905c",
   "metadata": {},
   "outputs": [],
   "source": [
    "CustomSeq1 = 'ATCTGAT'\n",
    "CustomSeq2 = 'TGCATA'"
   ]
  },
  {
   "cell_type": "code",
   "execution_count": 749,
   "id": "7bd6d9ef",
   "metadata": {},
   "outputs": [],
   "source": [
    "LCS2 = LongestCommonSubsequence(Seq1=np.array(list(CustomSeq1)),Seq2=np.array(list(CustomSeq2)))"
   ]
  },
  {
   "cell_type": "code",
   "execution_count": 750,
   "id": "11176f3c",
   "metadata": {},
   "outputs": [],
   "source": [
    "LCS2.run()"
   ]
  },
  {
   "cell_type": "code",
   "execution_count": 751,
   "id": "2a6d3449",
   "metadata": {},
   "outputs": [
    {
     "data": {
      "text/plain": [
       "<AxesSubplot:>"
      ]
     },
     "execution_count": 751,
     "metadata": {},
     "output_type": "execute_result"
    },
    {
     "data": {
      "image/png": "[encoded data removed]",
      "text/plain": [
       "<Figure size 504x576 with 1 Axes>"
      ]
     },
     "metadata": {
      "needs_background": "light"
     },
     "output_type": "display_data"
    }
   ],
   "source": [
    "LCS2.visualize()"
   ]
  },
  {
   "cell_type": "code",
   "execution_count": 753,
   "id": "ee9727dc",
   "metadata": {},
   "outputs": [
    {
     "data": {
      "text/plain": [
       "['Nord', 'Diag', 'East', 'Diag', 'East', 'Diag', 'Nord', 'Diag', 'Nord']"
      ]
     },
     "execution_count": 753,
     "metadata": {},
     "output_type": "execute_result"
    }
   ],
   "source": [
    "LCS2.Moves[list(LCS2.Moves.keys())[-1]]"
   ]
  },
  {
   "cell_type": "code",
   "execution_count": null,
   "id": "761042f0",
   "metadata": {},
   "outputs": [],
   "source": []
  }
 ],
 "metadata": {
  "kernelspec": {
   "display_name": "Python 3",
   "language": "python",
   "name": "python3"
  },
  "language_info": {
   "codemirror_mode": {
    "name": "ipython",
    "version": 3
   },
   "file_extension": ".py",
   "mimetype": "text/x-python",
   "name": "python",
   "nbconvert_exporter": "python",
   "pygments_lexer": "ipython3",
   "version": "3.8.8"
  }
 },
 "nbformat": 4,
 "nbformat_minor": 5
}
