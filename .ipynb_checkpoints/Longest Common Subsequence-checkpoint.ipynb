{
 "cells": [
  {
   "cell_type": "code",
   "execution_count": 1,
   "id": "ae451e6b",
   "metadata": {},
   "outputs": [
    {
     "data": {
      "application/javascript": [
       "require([\"codemirror/keymap/sublime\", \"notebook/js/cell\", \"base/js/namespace\"],\n",
       "    function(sublime_keymap, cell, IPython){\n",
       "        cell.Cell.options_default.cm_config.keyMap = 'sublime';\n",
       "        var cells = IPython.notebook.get_cells();\n",
       "        for(var cl=0; cl< cells.length ; cl++){\n",
       "            cells[cl].code_mirror.setOption('keyMap', 'sublime');\n",
       "        }\n",
       "    }\n",
       ");\n"
      ],
      "text/plain": [
       "<IPython.core.display.Javascript object>"
      ]
     },
     "metadata": {},
     "output_type": "display_data"
    }
   ],
   "source": [
    "%%javascript\n",
    "require([\"codemirror/keymap/sublime\", \"notebook/js/cell\", \"base/js/namespace\"],\n",
    "    function(sublime_keymap, cell, IPython){\n",
    "        cell.Cell.options_default.cm_config.keyMap = 'sublime';\n",
    "        var cells = IPython.notebook.get_cells();\n",
    "        for(var cl=0; cl< cells.length ; cl++){\n",
    "            cells[cl].code_mirror.setOption('keyMap', 'sublime');\n",
    "        }\n",
    "    }\n",
    ");"
   ]
  },
  {
   "cell_type": "code",
   "execution_count": 18,
   "id": "2b3d1f25",
   "metadata": {},
   "outputs": [],
   "source": [
    "import numpy as np\n",
    "import pandas as pd\n",
    "import matplotlib.pyplot as plt\n",
    "%matplotlib inline"
   ]
  },
  {
   "cell_type": "code",
   "execution_count": 308,
   "id": "9a67441f",
   "metadata": {},
   "outputs": [],
   "source": [
    "class LongestCommonSubsequence():\n",
    "    def __init__(self,*args,**kwargs):\n",
    "        # Set default parameters\n",
    "        self.L1 = 10\n",
    "        self.L2 = 10\n",
    "        self.replace = {0:'A', 1:'B', 2:'C', 3:'D'}\n",
    "        self.Seq1 = np.array([])\n",
    "        self.Seq2 = np.array([])\n",
    "        # Update with provided parameters\n",
    "        self.__dict__.update(kwargs)\n",
    "        # Actual initialization\n",
    "        if not self.Seq1.size:\n",
    "            self.Seq1 = np.array(pd.Series(np.floor(4*np.random.rand(self.L1))).map(self.replace))\n",
    "            self.Seq2 = np.array(pd.Series(np.floor(4*np.random.rand(self.L2))).map(self.replace))\n",
    "        self.L1 = (len(self.Seq1))\n",
    "        self.L2 = (len(self.Seq2))\n",
    "        self.Score = np.zeros((self.L1+1,self.L2+1))\n",
    "        self.Moves = {}\n",
    "        \n",
    "            \n",
    "    def run(self):\n",
    "        # Fill first column\n",
    "        for i in range(0,self.L1):\n",
    "            self.Score[i,0] = 0\n",
    "            self.Moves[str(i) + ',0'] = i*['Nord']\n",
    "        # Fill first row\n",
    "        for j in range(0,self.L2):\n",
    "            self.Score[0,j] = 0\n",
    "            self.Moves['0,' + str(j)] = j*['East']\n",
    "        # Iteratively fill the Score Matrix; save moves that maximize score to all vertexes\n",
    "        for i in range(1,self.L1+1):\n",
    "            for j in range(1,self.L2+1):\n",
    "                match = (self.Seq1[i-1]==self.Seq2[j-1])\n",
    "                max_score = max(self.Score[i-1,j],self.Score[i,j-1],match*(self.Score[i-1,j-1]+1))\n",
    "                if max_score == self.Score[i-1,j]:\n",
    "                    self.Moves[str(i) + ',' + str(j)] = self.Moves[str(i-1) + ',' + str(j)] + ['Nord']\n",
    "                elif max_score == self.Score[i,j-1]:\n",
    "                    self.Moves[str(i) + ',' + str(j)] = self.Moves[str(i) + ',' + str(j-1)] + ['East']    \n",
    "                elif max_score == match*(self.Score[i-1,j-1]+1):\n",
    "                    self.Moves[str(i) + ',' + str(j)] = self.Moves[str(i-1) + ',' + str(j-1)] + ['Diag']\n",
    "                self.Score[i,j] = max_score\n",
    "    \n",
    "    def visualize(self):\n",
    "        fig,ax = plt.subplots()\n",
    "        # Plain grid plot\n",
    "        x,y = np.meshgrid(np.arange(self.L2),np.arange(self.L1))\n",
    "        ax.plot(x,y,'o',markersize=5,color='black')\n",
    "        ax.get_xaxis().set_visible(False)\n",
    "        ax.get_yaxis().set_visible(False)\n",
    "        # Steps and scores\n",
    "        return ax"
   ]
  },
  {
   "cell_type": "code",
   "execution_count": 310,
   "id": "aa539065",
   "metadata": {},
   "outputs": [],
   "source": [
    "CustomSeq1 = 'ATCTGAT'\n",
    "CustomSeq2 = 'TGCATA'"
   ]
  },
  {
   "cell_type": "code",
   "execution_count": 311,
   "id": "06d7ade8",
   "metadata": {},
   "outputs": [],
   "source": [
    "LCS2 = LongestCommonSubsequence(Seq1=np.array(list(CustomSeq1)),Seq2=np.array(list(CustomSeq2)))"
   ]
  },
  {
   "cell_type": "code",
   "execution_count": 312,
   "id": "233fb24d",
   "metadata": {},
   "outputs": [
    {
     "data": {
      "text/plain": [
       "(array(['A', 'T', 'C', 'T', 'G', 'A', 'T'], dtype='<U1'),\n",
       " array(['T', 'G', 'C', 'A', 'T', 'A'], dtype='<U1'))"
      ]
     },
     "execution_count": 312,
     "metadata": {},
     "output_type": "execute_result"
    }
   ],
   "source": [
    "LCS2.Seq1, LCS2.Seq2"
   ]
  },
  {
   "cell_type": "code",
   "execution_count": 313,
   "id": "022ee266",
   "metadata": {},
   "outputs": [],
   "source": [
    "LCS2.run()"
   ]
  },
  {
   "cell_type": "code",
   "execution_count": 314,
   "id": "db33965c",
   "metadata": {
    "scrolled": true
   },
   "outputs": [
    {
     "data": {
      "text/plain": [
       "array([[0., 0., 0., 0., 0., 0., 0.],\n",
       "       [0., 0., 0., 0., 1., 1., 1.],\n",
       "       [0., 1., 1., 1., 1., 2., 2.],\n",
       "       [0., 1., 1., 2., 2., 2., 2.],\n",
       "       [0., 1., 1., 2., 2., 3., 3.],\n",
       "       [0., 1., 2., 2., 2., 3., 3.],\n",
       "       [0., 1., 2., 2., 3., 3., 4.],\n",
       "       [0., 1., 2., 2., 3., 4., 4.]])"
      ]
     },
     "execution_count": 314,
     "metadata": {},
     "output_type": "execute_result"
    }
   ],
   "source": [
    "LCS2.Score"
   ]
  },
  {
   "cell_type": "code",
   "execution_count": 315,
   "id": "19a09f77",
   "metadata": {},
   "outputs": [
    {
     "data": {
      "text/plain": [
       "['Nord', 'Diag', 'East', 'Diag', 'East', 'Diag', 'Nord', 'Diag', 'Nord']"
      ]
     },
     "execution_count": 315,
     "metadata": {},
     "output_type": "execute_result"
    }
   ],
   "source": [
    "LCS2.Moves[list(LCS2.Moves.keys())[-1]]"
   ]
  },
  {
   "cell_type": "code",
   "execution_count": 316,
   "id": "a6fd3d1a",
   "metadata": {},
   "outputs": [],
   "source": [
    "CustomSeq1B = 'TGCA'\n",
    "CustomSeq2B = 'TGCA'"
   ]
  },
  {
   "cell_type": "code",
   "execution_count": 317,
   "id": "2a8717fd",
   "metadata": {},
   "outputs": [],
   "source": [
    "LCS3 = LongestCommonSubsequence(Seq1=np.array(list(CustomSeq1B)),Seq2=np.array(list(CustomSeq2B)))"
   ]
  },
  {
   "cell_type": "code",
   "execution_count": 318,
   "id": "56925631",
   "metadata": {
    "scrolled": true
   },
   "outputs": [],
   "source": [
    "LCS3.run()"
   ]
  },
  {
   "cell_type": "code",
   "execution_count": 319,
   "id": "ecd94646",
   "metadata": {},
   "outputs": [
    {
     "data": {
      "text/plain": [
       "array([[0., 0., 0., 0., 0.],\n",
       "       [0., 1., 1., 1., 1.],\n",
       "       [0., 1., 2., 2., 2.],\n",
       "       [0., 1., 2., 3., 3.],\n",
       "       [0., 1., 2., 3., 4.]])"
      ]
     },
     "execution_count": 319,
     "metadata": {},
     "output_type": "execute_result"
    }
   ],
   "source": [
    "LCS3.Score"
   ]
  },
  {
   "cell_type": "code",
   "execution_count": 320,
   "id": "88a61215",
   "metadata": {},
   "outputs": [
    {
     "data": {
      "text/plain": [
       "['Diag', 'Diag', 'Diag', 'Diag']"
      ]
     },
     "execution_count": 320,
     "metadata": {},
     "output_type": "execute_result"
    }
   ],
   "source": [
    "LCS3.Moves[list(LCS3.Moves.keys())[-1]]"
   ]
  },
  {
   "cell_type": "code",
   "execution_count": 321,
   "id": "4c8412bf",
   "metadata": {},
   "outputs": [
    {
     "data": {
      "text/plain": [
       "['Nord', 'Diag', 'East']"
      ]
     },
     "execution_count": 321,
     "metadata": {},
     "output_type": "execute_result"
    }
   ],
   "source": [
    "LCS2.Moves['2,2']"
   ]
  },
  {
   "cell_type": "code",
   "execution_count": 323,
   "id": "4740327b",
   "metadata": {},
   "outputs": [
    {
     "data": {
      "text/plain": [
       "{'0,0': [],\n",
       " '1,0': ['Nord'],\n",
       " '2,0': ['Nord', 'Nord'],\n",
       " '3,0': ['Nord', 'Nord', 'Nord'],\n",
       " '0,1': ['East'],\n",
       " '0,2': ['East', 'East'],\n",
       " '0,3': ['East', 'East', 'East'],\n",
       " '1,1': ['Diag'],\n",
       " '1,2': ['Diag', 'East'],\n",
       " '1,3': ['Diag', 'East', 'East'],\n",
       " '1,4': ['Diag', 'East', 'East', 'East'],\n",
       " '2,1': ['Diag', 'Nord'],\n",
       " '2,2': ['Diag', 'Diag'],\n",
       " '2,3': ['Diag', 'Diag', 'East'],\n",
       " '2,4': ['Diag', 'Diag', 'East', 'East'],\n",
       " '3,1': ['Diag', 'Nord', 'Nord'],\n",
       " '3,2': ['Diag', 'Diag', 'Nord'],\n",
       " '3,3': ['Diag', 'Diag', 'Diag'],\n",
       " '3,4': ['Diag', 'Diag', 'Diag', 'East'],\n",
       " '4,1': ['Diag', 'Nord', 'Nord', 'Nord'],\n",
       " '4,2': ['Diag', 'Diag', 'Nord', 'Nord'],\n",
       " '4,3': ['Diag', 'Diag', 'Diag', 'Nord'],\n",
       " '4,4': ['Diag', 'Diag', 'Diag', 'Diag']}"
      ]
     },
     "execution_count": 323,
     "metadata": {},
     "output_type": "execute_result"
    }
   ],
   "source": [
    "LCS3.Moves"
   ]
  },
  {
   "cell_type": "code",
   "execution_count": null,
   "id": "86aeea26",
   "metadata": {},
   "outputs": [],
   "source": []
  },
  {
   "cell_type": "code",
   "execution_count": null,
   "id": "9d2b5d38",
   "metadata": {},
   "outputs": [],
   "source": []
  }
 ],
 "metadata": {
  "kernelspec": {
   "display_name": "Python 3",
   "language": "python",
   "name": "python3"
  },
  "language_info": {
   "codemirror_mode": {
    "name": "ipython",
    "version": 3
   },
   "file_extension": ".py",
   "mimetype": "text/x-python",
   "name": "python",
   "nbconvert_exporter": "python",
   "pygments_lexer": "ipython3",
   "version": "3.8.8"
  }
 },
 "nbformat": 4,
 "nbformat_minor": 5
}
