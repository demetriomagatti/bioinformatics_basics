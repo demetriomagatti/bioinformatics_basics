{
 "cells": [
  {
   "cell_type": "code",
   "execution_count": 1,
   "id": "6e74de7a",
   "metadata": {},
   "outputs": [
    {
     "data": {
      "application/javascript": [
       "require([\"codemirror/keymap/sublime\", \"notebook/js/cell\", \"base/js/namespace\"],\n",
       "    function(sublime_keymap, cell, IPython){\n",
       "        cell.Cell.options_default.cm_config.keyMap = 'sublime';\n",
       "        var cells = IPython.notebook.get_cells();\n",
       "        for(var cl=0; cl< cells.length ; cl++){\n",
       "            cells[cl].code_mirror.setOption('keyMap', 'sublime');\n",
       "        }\n",
       "    }\n",
       ");\n"
      ],
      "text/plain": [
       "<IPython.core.display.Javascript object>"
      ]
     },
     "metadata": {},
     "output_type": "display_data"
    }
   ],
   "source": [
    "%%javascript\n",
    "require([\"codemirror/keymap/sublime\", \"notebook/js/cell\", \"base/js/namespace\"],\n",
    "    function(sublime_keymap, cell, IPython){\n",
    "        cell.Cell.options_default.cm_config.keyMap = 'sublime';\n",
    "        var cells = IPython.notebook.get_cells();\n",
    "        for(var cl=0; cl< cells.length ; cl++){\n",
    "            cells[cl].code_mirror.setOption('keyMap', 'sublime');\n",
    "        }\n",
    "    }\n",
    ");"
   ]
  },
  {
   "cell_type": "code",
   "execution_count": 2,
   "id": "f972e5ba",
   "metadata": {},
   "outputs": [],
   "source": [
    "import numpy as np\n",
    "import matplotlib.pyplot as plt\n",
    "%matplotlib inline"
   ]
  },
  {
   "cell_type": "code",
   "execution_count": 188,
   "id": "f5e31468",
   "metadata": {},
   "outputs": [],
   "source": [
    "class ManhattanSolver():\n",
    "    def __init__(self,*args,**kwargs):\n",
    "        #Set default parameters\n",
    "        self.MaxScore = 10\n",
    "        self.nrows = 10\n",
    "        self.ncols = 10\n",
    "        self.highlight = True\n",
    "        #Update with provided parameters\n",
    "        self.__dict__.update(kwargs)\n",
    "        #Actual initialization\n",
    "        self.MoveEast = np.floor(self.MaxScore*np.random.rand(self.nrows,self.ncols-1))\n",
    "        self.MoveSouth = np.floor(self.MaxScore*np.random.rand(self.nrows-1,self.ncols))\n",
    "        self.Score = np.zeros((self.nrows,self.ncols))\n",
    "    \n",
    "    def run(self):\n",
    "        for i in range(1,self.nrows):\n",
    "            self.Score[i,0] = self.Score[i-1,0] + self.MoveSouth[i-1,0]\n",
    "        for j in range(1,self.ncols):\n",
    "            self.Score[0,j] = self.Score[0,j-1] + self.MoveEast[0,j-1]\n",
    "        for i in range(1,self.nrows):\n",
    "            for j in range(1,self.ncols):\n",
    "                self.Score[i,j] = max(self.Score[i-1,j] + self.MoveSouth[i-1,j],\n",
    "                                      self.Score[i,j-1] + self.MoveEast[i,j-1])\n",
    "        return self.Score,self.Score[self.nrows-1,self.ncols-1]\n",
    "    \n",
    "    def visualize(self):\n",
    "        fig,ax = plt.subplots()\n",
    "        x,y = np.meshgrid(np.arange(self.nrows),np.arange(self.ncols))\n",
    "        ax.plot(x,y,'o',markersize=5,color='black')\n",
    "        ax.get_xaxis().set_visible(False)\n",
    "        ax.get_yaxis().set_visible(False)\n",
    "        for xpos in x[0][:-1]:\n",
    "            for ypos in [y[i,0] for i in range(len(y))]:\n",
    "                ax.arrow(xpos+0.2,ypos,0.6,0,width=0.02,color='lightblue')\n",
    "                ax.text(xpos+0.5,ypos,str(self.MoveEast[xpos-1,ypos]))\n",
    "        for xpos in x[0]:\n",
    "            for ypos in [y[i,0] for i in range(1,len(y))]:\n",
    "                ax.arrow(xpos,ypos-0.2,0,-0.6,width=0.02,color='lightblue')\n",
    "                ax.text(xpos,ypos-0.5,str(self.MoveSouth[ypos,xpos-1]))\n",
    "        return ax"
   ]
  },
  {
   "cell_type": "code",
   "execution_count": 189,
   "id": "794ea555",
   "metadata": {},
   "outputs": [
    {
     "data": {
      "text/plain": [
       "(array([[ 0.,  0.,  4.,  4.],\n",
       "        [ 2.,  5.,  9., 13.],\n",
       "        [ 6., 10., 14., 17.],\n",
       "        [ 6., 11., 17., 20.]]),\n",
       " 20.0)"
      ]
     },
     "execution_count": 189,
     "metadata": {},
     "output_type": "execute_result"
    }
   ],
   "source": [
    "solver = ManhattanSolver(ncols=4,nrows=4,MaxScore=5)\n",
    "solver.run()"
   ]
  },
  {
   "cell_type": "code",
   "execution_count": 190,
   "id": "eff72689",
   "metadata": {},
   "outputs": [
    {
     "data": {
      "text/plain": [
       "array([[0., 4., 0.],\n",
       "       [3., 4., 4.],\n",
       "       [4., 4., 3.],\n",
       "       [1., 2., 1.]])"
      ]
     },
     "execution_count": 190,
     "metadata": {},
     "output_type": "execute_result"
    }
   ],
   "source": [
    "solver.MoveEast"
   ]
  },
  {
   "cell_type": "code",
   "execution_count": 191,
   "id": "9297e56e",
   "metadata": {},
   "outputs": [
    {
     "data": {
      "text/plain": [
       "array([[2., 4., 4., 4.],\n",
       "       [4., 2., 1., 4.],\n",
       "       [0., 1., 3., 3.]])"
      ]
     },
     "execution_count": 191,
     "metadata": {},
     "output_type": "execute_result"
    }
   ],
   "source": [
    "solver.MoveSouth"
   ]
  },
  {
   "cell_type": "code",
   "execution_count": 183,
   "id": "8aea1fe3",
   "metadata": {},
   "outputs": [
    {
     "data": {
      "text/plain": [
       "<AxesSubplot:>"
      ]
     },
     "execution_count": 183,
     "metadata": {},
     "output_type": "execute_result"
    },
    {
     "data": {
      "image/png": "[encoded data removed]",
      "text/plain": [
       "<Figure size 432x288 with 1 Axes>"
      ]
     },
     "metadata": {
      "needs_background": "light"
     },
     "output_type": "display_data"
    }
   ],
   "source": [
    "solver.visualize()"
   ]
  },
  {
   "cell_type": "code",
   "execution_count": 133,
   "id": "ec542114",
   "metadata": {},
   "outputs": [
    {
     "data": {
      "text/plain": [
       "[<matplotlib.lines.Line2D at 0x7f3e2a07c910>,\n",
       " <matplotlib.lines.Line2D at 0x7f3e2a07c790>,\n",
       " <matplotlib.lines.Line2D at 0x7f3e2a07c940>,\n",
       " <matplotlib.lines.Line2D at 0x7f3e2a07c070>,\n",
       " <matplotlib.lines.Line2D at 0x7f3e2a07cb80>]"
      ]
     },
     "execution_count": 133,
     "metadata": {},
     "output_type": "execute_result"
    },
    {
     "data": {
      "image/png": "[encoded data removed]",
      "text/plain": [
       "<Figure size 432x288 with 1 Axes>"
      ]
     },
     "metadata": {
      "needs_background": "light"
     },
     "output_type": "display_data"
    }
   ],
   "source": [
    "fig,ax = plt.subplots()\n",
    "\n",
    "x,y = np.meshgrid(np.arange(5),np.arange(3))\n",
    "ax.plot(x,y,'.',markersize=3,color='black')"
   ]
  },
  {
   "cell_type": "code",
   "execution_count": 103,
   "id": "fdb5cbc4",
   "metadata": {},
   "outputs": [
    {
     "data": {
      "text/plain": [
       "array([0, 1, 2, 3, 4])"
      ]
     },
     "execution_count": 103,
     "metadata": {},
     "output_type": "execute_result"
    }
   ],
   "source": [
    "x[0]"
   ]
  },
  {
   "cell_type": "code",
   "execution_count": 109,
   "id": "3ea4d0ce",
   "metadata": {},
   "outputs": [
    {
     "data": {
      "text/plain": [
       "[0, 1, 2]"
      ]
     },
     "execution_count": 109,
     "metadata": {},
     "output_type": "execute_result"
    }
   ],
   "source": [
    "[y[i,0] for i in range(len(y))]"
   ]
  },
  {
   "cell_type": "code",
   "execution_count": 130,
   "id": "0a15296b",
   "metadata": {},
   "outputs": [
    {
     "data": {
      "image/png": "[encoded data removed]",
      "text/plain": [
       "<Figure size 432x288 with 1 Axes>"
      ]
     },
     "metadata": {
      "needs_background": "light"
     },
     "output_type": "display_data"
    }
   ],
   "source": [
    "fig,ax = plt.subplots()\n",
    "\n",
    "x,y = np.meshgrid(np.arange(5),np.arange(3))\n",
    "ax.plot(x,y,'o',markersize=5,color='black')\n",
    "ax.get_xaxis().set_visible(False)\n",
    "ax.get_yaxis().set_visible(False)\n",
    "for xpos in x[0][:-1]:\n",
    "    for ypos in [y[i,0] for i in range(len(y))]:\n",
    "        ax.arrow(xpos+0.2,ypos,0.6,0,width=0.02,color='lightblue')\n",
    "        ax.text(xpos+0.5,ypos,\"1\")\n",
    "for xpos in x[0]:\n",
    "    for ypos in [y[i,0] for i in range(1,len(y))]:\n",
    "        ax.arrow(xpos,ypos-0.2,0,-0.6,width=0.02,color='lightblue')\n",
    "        ax.text(xpos,ypos-0.5,\"1\")"
   ]
  },
  {
   "cell_type": "code",
   "execution_count": null,
   "id": "9041a18a",
   "metadata": {},
   "outputs": [],
   "source": []
  }
 ],
 "metadata": {
  "kernelspec": {
   "display_name": "Python 3",
   "language": "python",
   "name": "python3"
  },
  "language_info": {
   "codemirror_mode": {
    "name": "ipython",
    "version": 3
   },
   "file_extension": ".py",
   "mimetype": "text/x-python",
   "name": "python",
   "nbconvert_exporter": "python",
   "pygments_lexer": "ipython3",
   "version": "3.8.8"
  }
 },
 "nbformat": 4,
 "nbformat_minor": 5
}
